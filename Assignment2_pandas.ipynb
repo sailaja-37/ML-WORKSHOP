{
  "nbformat": 4,
  "nbformat_minor": 0,
  "metadata": {
    "colab": {
      "provenance": [],
      "authorship_tag": "ABX9TyP6QD2NL+05ZN6YyO0UxSw6",
      "include_colab_link": true
    },
    "kernelspec": {
      "name": "python3",
      "display_name": "Python 3"
    },
    "language_info": {
      "name": "python"
    }
  },
  "cells": [
    {
      "cell_type": "markdown",
      "metadata": {
        "id": "view-in-github",
        "colab_type": "text"
      },
      "source": [
        "<a href=\"https://colab.research.google.com/github/sailaja-37/ML-WORKSHOP/blob/main/Assignment2_pandas.ipynb\" target=\"_parent\"><img src=\"https://colab.research.google.com/assets/colab-badge.svg\" alt=\"Open In Colab\"/></a>"
      ]
    },
    {
      "cell_type": "code",
      "source": [
        "import pandas as pd"
      ],
      "metadata": {
        "id": "a7WhO369Suag"
      },
      "execution_count": 1,
      "outputs": []
    },
    {
      "cell_type": "markdown",
      "source": [
        "##1. Create a Pandas DataFrame from the following dictionary:\n",
        "####data = {'Name': ['Alice', 'Bob', 'Carol'] ,'Age': [24, 27, 22] ,'Salary': [50000, 55000, 48000] }\n",
        "####• Add a new column called Bonus which is 10% of the salary."
      ],
      "metadata": {
        "id": "wgzZvqKXRxXb"
      }
    },
    {
      "cell_type": "code",
      "source": [
        "data = {\n",
        "    'Name': ['Alice', 'Bob', 'Carol'],\n",
        "    'Age': [24, 27, 22],\n",
        "    'Salary': [50000, 55000, 48000]\n",
        "}\n",
        "df = pd.DataFrame(data)\n",
        "df['Bonus'] = df['Salary'] * 0.1\n",
        "print(df)"
      ],
      "metadata": {
        "colab": {
          "base_uri": "https://localhost:8080/"
        },
        "id": "swEb5bXjStb1",
        "outputId": "48d8bbf0-a0c0-4c75-ed48-c0b977fafc0a"
      },
      "execution_count": 2,
      "outputs": [
        {
          "output_type": "stream",
          "name": "stdout",
          "text": [
            "    Name  Age  Salary   Bonus\n",
            "0  Alice   24   50000  5000.0\n",
            "1    Bob   27   55000  5500.0\n",
            "2  Carol   22   48000  4800.0\n"
          ]
        }
      ]
    },
    {
      "cell_type": "markdown",
      "source": [
        "##2. Given the DataFrame created in the above question:\n",
        "###• Display the first two rows.\n",
        "###• Compute the mean salary.\n"
      ],
      "metadata": {
        "id": "1BAzBirNTXnO"
      }
    },
    {
      "cell_type": "code",
      "source": [
        "print(\"First two rows:\")\n",
        "print(df.head(2))\n",
        "\n",
        "mean_salary = df['Salary'].mean()\n",
        "print(\"\\nMean Salary:\",mean_salary)\n"
      ],
      "metadata": {
        "colab": {
          "base_uri": "https://localhost:8080/"
        },
        "id": "eazGn1XxTV64",
        "outputId": "da2ffaa7-be03-4c23-a3c2-9dd623baed8c"
      },
      "execution_count": 3,
      "outputs": [
        {
          "output_type": "stream",
          "name": "stdout",
          "text": [
            "First two rows:\n",
            "    Name  Age  Salary   Bonus\n",
            "0  Alice   24   50000  5000.0\n",
            "1    Bob   27   55000  5500.0\n",
            "\n",
            "Mean Salary: 51000.0\n"
          ]
        }
      ]
    },
    {
      "cell_type": "markdown",
      "source": [
        "##3. Using the same DataFrame:\n",
        "###• Extract all rows where the Age is greater than 25.\n",
        "###• Filter out rows where the Salary is less than 50000."
      ],
      "metadata": {
        "id": "c1sTcAc5UpJr"
      }
    },
    {
      "cell_type": "code",
      "source": [
        "age_greaterthan_25 = df[df['Age'] > 25]\n",
        "salary_lessthan_50000 = df[df['Salary'] < 50000]\n",
        "\n",
        "print(\"Rows where Age > 25:\")\n",
        "print(age_greaterthan_25)\n",
        "\n",
        "print(\"\\nRows where Salary < 50000:\")\n",
        "print(salary_lessthan_50000)\n"
      ],
      "metadata": {
        "colab": {
          "base_uri": "https://localhost:8080/"
        },
        "id": "aBdc48T2SBzs",
        "outputId": "ba41e484-ed36-419d-bb85-acc2a6bcbdf8"
      },
      "execution_count": 4,
      "outputs": [
        {
          "output_type": "stream",
          "name": "stdout",
          "text": [
            "Rows where Age > 25:\n",
            "  Name  Age  Salary   Bonus\n",
            "1  Bob   27   55000  5500.0\n",
            "\n",
            "Rows where Salary < 50000:\n",
            "    Name  Age  Salary   Bonus\n",
            "2  Carol   22   48000  4800.0\n"
          ]
        }
      ]
    },
    {
      "cell_type": "markdown",
      "source": [
        "##4. Create the following DataFrame:\n",
        "###data = {'A': [1, 2, None, 4],'B': [None, 2, 3, None],'C': [1, 2, 3, 4]}\n",
        "###df = pd.DataFrame(data)\n",
        "###• Fill missing values in column A with the mean of the column.\n",
        "###• Drop rows where all values are None"
      ],
      "metadata": {
        "id": "k2WdTbl9WehO"
      }
    },
    {
      "cell_type": "code",
      "source": [
        "data = {\n",
        "    'A': [1, 2, None, 4],\n",
        "    'B': [None, 2, 3, None],\n",
        "    'C': [1, 2, 3, 4]\n",
        "}\n",
        "df = pd.DataFrame(data)\n",
        "df['A'] = df['A'].fillna(df['A'].mean())\n",
        "df = df.dropna(how='all')\n",
        "print(df)\n"
      ],
      "metadata": {
        "colab": {
          "base_uri": "https://localhost:8080/"
        },
        "id": "LWTYqCrtWvmV",
        "outputId": "d75d328c-8475-40fd-8cd9-b4fa1fe15761"
      },
      "execution_count": 6,
      "outputs": [
        {
          "output_type": "stream",
          "name": "stdout",
          "text": [
            "          A    B  C\n",
            "0  1.000000  NaN  1\n",
            "1  2.000000  2.0  2\n",
            "2  2.333333  3.0  3\n",
            "3  4.000000  NaN  4\n"
          ]
        }
      ]
    },
    {
      "cell_type": "markdown",
      "source": [
        "##5. Create a DataFrame for employees:\n",
        "###data = {'Department': ['HR', 'HR', 'IT', 'IT', 'Finance'],'Employee': ['Alice', 'Bob', 'Carol', 'David', 'Eve'],'Salary': [50000, 45000, 60000, 65000, 70000]}\n",
        "###• Group the data by Department and compute the total and mean salary for each\n",
        "department.\n"
      ],
      "metadata": {
        "id": "-1ARJAv-YQAB"
      }
    },
    {
      "cell_type": "code",
      "source": [
        "data = {\n",
        "    'Department': ['HR', 'HR', 'IT', 'IT', 'Finance'],\n",
        "    'Employee': ['Alice', 'Bob', 'Carol', 'David', 'Eve'],\n",
        "    'Salary': [50000, 45000, 60000, 65000, 70000]\n",
        "}\n",
        "df = pd.DataFrame(data)\n",
        "salary_data = df.groupby('Department')['Salary'].agg(['sum', 'mean'])\n",
        "print(salary_data)\n"
      ],
      "metadata": {
        "colab": {
          "base_uri": "https://localhost:8080/"
        },
        "id": "LWU17K0rYgaS",
        "outputId": "136890e2-ecb9-49ec-d990-12b63517a4d2"
      },
      "execution_count": 7,
      "outputs": [
        {
          "output_type": "stream",
          "name": "stdout",
          "text": [
            "               sum     mean\n",
            "Department                 \n",
            "Finance      70000  70000.0\n",
            "HR           95000  47500.0\n",
            "IT          125000  62500.0\n"
          ]
        }
      ]
    },
    {
      "cell_type": "markdown",
      "source": [
        "##6. Given two DataFrames:\n",
        "###df1 = pd.DataFrame({'ID': [1, 2, 3], 'Name': ['Alice', 'Bob', 'Carol']})\n",
        "###df2 = pd.DataFrame({'ID': [2, 3, 4], 'Age': [25, 30, 22]})\n",
        "###• Perform an inner join on the ID column."
      ],
      "metadata": {
        "id": "jgZJjFZIZSaP"
      }
    },
    {
      "cell_type": "code",
      "source": [
        "\n",
        "df1 = pd.DataFrame({'ID': [1, 2, 3], 'Name': ['Alice', 'Bob', 'Carol']})\n",
        "df2 = pd.DataFrame({'ID': [2, 3, 4], 'Age': [25, 30, 22]})\n",
        "innerjoin = pd.merge(df1, df2, on='ID')\n",
        "\n",
        "print(innerjoin)\n"
      ],
      "metadata": {
        "colab": {
          "base_uri": "https://localhost:8080/"
        },
        "id": "bC6aaGPgZdOu",
        "outputId": "ae4c9ac3-1f54-40d9-a00b-bd1c0b2bf4c4"
      },
      "execution_count": 11,
      "outputs": [
        {
          "output_type": "stream",
          "name": "stdout",
          "text": [
            "   ID   Name  Age\n",
            "0   2    Bob   25\n",
            "1   3  Carol   30\n"
          ]
        }
      ]
    },
    {
      "cell_type": "markdown",
      "source": [
        "##7. Given a small dataset, clean and display basic statistics using Pandas"
      ],
      "metadata": {
        "id": "el1sPJIMeZ0f"
      }
    },
    {
      "cell_type": "code",
      "source": [
        "\n",
        "data = {\n",
        "    'Name': ['Alice', 'Bob', 'Carol', 'David', 'Eve'],\n",
        "    'Age': [24, 27, None, 35, 22],\n",
        "    'Salary': [50000, 55000, 48000, None, 70000]\n",
        "}\n",
        "\n",
        "df = pd.DataFrame(data)\n",
        "\n",
        "\n",
        "df['Age'] = df['Age'].fillna(df['Age'].mean())\n",
        "df['Salary'] = df['Salary'].fillna(df['Salary'].median())\n",
        "\n",
        "print(df.describe())\n",
        "\n",
        "\n",
        "print(df)\n"
      ],
      "metadata": {
        "colab": {
          "base_uri": "https://localhost:8080/"
        },
        "id": "cDwvre8qed_a",
        "outputId": "651268c8-a19f-46a3-e6ba-4f9652dba891"
      },
      "execution_count": 13,
      "outputs": [
        {
          "output_type": "stream",
          "name": "stdout",
          "text": [
            "             Age        Salary\n",
            "count   5.000000      5.000000\n",
            "mean   27.000000  55100.000000\n",
            "std     4.949747   8734.987121\n",
            "min    22.000000  48000.000000\n",
            "25%    24.000000  50000.000000\n",
            "50%    27.000000  52500.000000\n",
            "75%    27.000000  55000.000000\n",
            "max    35.000000  70000.000000\n",
            "    Name   Age   Salary\n",
            "0  Alice  24.0  50000.0\n",
            "1    Bob  27.0  55000.0\n",
            "2  Carol  27.0  48000.0\n",
            "3  David  35.0  52500.0\n",
            "4    Eve  22.0  70000.0\n"
          ]
        }
      ]
    },
    {
      "cell_type": "markdown",
      "source": [
        "##8. small EDA task\n",
        "###• Load the Titanic dataset (titanic.csv) into a Pandas DataFrame.\n",
        "###• Perform the following tasks:\n",
        "###o Display the number of missing values in each column.\n",
        "###o Find the average age of passengers.\n",
        "###o Create a bar plot to show the survival rate based on gender."
      ],
      "metadata": {
        "id": "8SosDCgpgGE5"
      }
    },
    {
      "cell_type": "code",
      "source": [
        "import pandas as pd\n",
        "import matplotlib.pyplot as plt\n",
        "\n",
        "df = pd.read_csv('Titanic-Dataset.csv')\n",
        "\n",
        "\n",
        "print(df.isnull().sum())\n",
        "\n",
        "print(\"\\nAverage age of passengers:\", df['Age'].mean())\n",
        "\n",
        "df.groupby('Sex')['Survived'].mean().plot(kind='bar', color=['red', 'green'])\n",
        "plt.title('Survival Rate by Gender')\n",
        "plt.ylabel('Survival Rate')\n",
        "plt.show()\n"
      ],
      "metadata": {
        "colab": {
          "base_uri": "https://localhost:8080/",
          "height": 766
        },
        "id": "mlFNjKBKgQuq",
        "outputId": "ad06656c-9b50-4815-d76d-fd7ed6fbe3a8"
      },
      "execution_count": 17,
      "outputs": [
        {
          "output_type": "stream",
          "name": "stdout",
          "text": [
            "PassengerId      0\n",
            "Survived         0\n",
            "Pclass           0\n",
            "Name             0\n",
            "Sex              0\n",
            "Age            177\n",
            "SibSp            0\n",
            "Parch            0\n",
            "Ticket           0\n",
            "Fare             0\n",
            "Cabin          687\n",
            "Embarked         2\n",
            "dtype: int64\n",
            "\n",
            "Average age of passengers: 29.69911764705882\n"
          ]
        },
        {
          "output_type": "display_data",
          "data": {
            "text/plain": [
              "<Figure size 640x480 with 1 Axes>"
            ],
            "image/png": "[encoded data removed]"
          },
          "metadata": {}
        }
      ]
    },
    {
      "cell_type": "markdown",
      "source": [
        "###9. Data Transformation\n",
        "• Load a dataset containing daily temperatures and dates. Perform the following:\n",
        "o Convert the date column into a DateTime object.\n",
        "o Create a new column that categorizes temperatures into High, Medium, or\n",
        "Low."
      ],
      "metadata": {
        "id": "oNeN7mIlhRmP"
      }
    },
    {
      "cell_type": "code",
      "source": [
        "\n",
        "df = pd.read_csv('daily-min-temperatures.csv')\n",
        "\n",
        "\n",
        "df['Date'] = pd.to_datetime(df['Date'])\n",
        "\n",
        "\n",
        "def categorize_temperature(temp):\n",
        "    if temp >= 30:\n",
        "        return 'High'\n",
        "    elif 20 <= temp < 30:\n",
        "        return 'Medium'\n",
        "    else:\n",
        "        return 'Low'\n",
        "\n",
        "df['Temperature Category'] = df['Temp'].apply(categorize_temperature)\n",
        "\n",
        "\n",
        "print(df)\n"
      ],
      "metadata": {
        "colab": {
          "base_uri": "https://localhost:8080/"
        },
        "id": "EqD1clPphWyw",
        "outputId": "aae87298-3e80-4dd3-eb3b-9eac6a0a89c7"
      },
      "execution_count": 20,
      "outputs": [
        {
          "output_type": "stream",
          "name": "stdout",
          "text": [
            "           Date  Temp Temperature Category\n",
            "0    1981-01-01  20.7               Medium\n",
            "1    1981-01-02  17.9                  Low\n",
            "2    1981-01-03  18.8                  Low\n",
            "3    1981-01-04  14.6                  Low\n",
            "4    1981-01-05  15.8                  Low\n",
            "...         ...   ...                  ...\n",
            "3645 1990-12-27  14.0                  Low\n",
            "3646 1990-12-28  13.6                  Low\n",
            "3647 1990-12-29  13.5                  Low\n",
            "3648 1990-12-30  15.7                  Low\n",
            "3649 1990-12-31  13.0                  Low\n",
            "\n",
            "[3650 rows x 3 columns]\n"
          ]
        }
      ]
    }
  ]
}