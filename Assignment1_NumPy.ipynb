{
  "nbformat": 4,
  "nbformat_minor": 0,
  "metadata": {
    "colab": {
      "provenance": [],
      "authorship_tag": "ABX9TyNTObQKTK6T+Z4m5Aj9A6MM",
      "include_colab_link": true
    },
    "kernelspec": {
      "name": "python3",
      "display_name": "Python 3"
    },
    "language_info": {
      "name": "python"
    }
  },
  "cells": [
    {
      "cell_type": "markdown",
      "metadata": {
        "id": "view-in-github",
        "colab_type": "text"
      },
      "source": [
        "<a href=\"https://colab.research.google.com/github/sailaja-37/ML-WORKSHOP/blob/main/Assignment1_NumPy.ipynb\" target=\"_parent\"><img src=\"https://colab.research.google.com/assets/colab-badge.svg\" alt=\"Open In Colab\"/></a>"
      ]
    },
    {
      "cell_type": "code",
      "execution_count": 1,
      "metadata": {
        "colab": {
          "base_uri": "https://localhost:8080/"
        },
        "id": "DXSPeKlGqBNo",
        "outputId": "3b0a9e0b-6372-4122-ef14-fb1dcc304603"
      },
      "outputs": [
        {
          "output_type": "stream",
          "name": "stdout",
          "text": [
            "Python 3.10.12\n"
          ]
        }
      ],
      "source": [
        "!python --version\n"
      ]
    },
    {
      "cell_type": "code",
      "source": [
        "import numpy as np\n"
      ],
      "metadata": {
        "id": "bO6xGx6hqfXj"
      },
      "execution_count": 2,
      "outputs": []
    },
    {
      "cell_type": "markdown",
      "source": [
        "#1. Perform arithmetic operations on NumPy arrays\n"
      ],
      "metadata": {
        "id": "mD5Auc8LrLyR"
      }
    },
    {
      "cell_type": "code",
      "source": [
        "x = np.array([[1,2],[3,4]])\n",
        "y = np.array([[5,6],[7,8]])\n",
        "print(np.add(x, y))\n",
        "print(np.subtract(x, y))\n",
        "print(np.multiply(x, y))\n",
        "print(np.divide(x, y))"
      ],
      "metadata": {
        "colab": {
          "base_uri": "https://localhost:8080/"
        },
        "id": "PIxyEey_sA_f",
        "outputId": "26604c43-1b12-4cc7-8aaf-549578ec78d6"
      },
      "execution_count": 15,
      "outputs": [
        {
          "output_type": "stream",
          "name": "stdout",
          "text": [
            "[[ 6  8]\n",
            " [10 12]]\n",
            "[[-4 -4]\n",
            " [-4 -4]]\n",
            "[[ 5 12]\n",
            " [21 32]]\n",
            "[[0.2        0.33333333]\n",
            " [0.42857143 0.5       ]]\n"
          ]
        }
      ]
    },
    {
      "cell_type": "markdown",
      "source": [
        "#2. Write a script to compute the mean and standard deviation of a NumPy array.\n"
      ],
      "metadata": {
        "id": "C0xM8g7jugIE"
      }
    },
    {
      "cell_type": "code",
      "source": [
        "a = np.array([1, 2, 3, 4, 5])\n",
        "\n",
        "mean = np.mean(a)\n",
        "sd = np.std(a)\n",
        "\n",
        "print(\"Mean:\", mean)\n",
        "print(\"Standard Deviation:\", sd)\n"
      ],
      "metadata": {
        "colab": {
          "base_uri": "https://localhost:8080/"
        },
        "id": "KXhd54Esvk1u",
        "outputId": "7fee2ed0-62e2-4382-fb74-e737db241c4c"
      },
      "execution_count": 4,
      "outputs": [
        {
          "output_type": "stream",
          "name": "stdout",
          "text": [
            "Mean: 3.0\n",
            "Standard Deviation: 1.4142135623730951\n"
          ]
        }
      ]
    },
    {
      "cell_type": "markdown",
      "source": [
        "#3. Create a NumPy array of integers from 10 to 50 with a step size of 5.\n"
      ],
      "metadata": {
        "id": "mp7lUn31x6CF"
      }
    },
    {
      "cell_type": "code",
      "source": [
        "\n",
        "a = np.arange(10, 51, 5)\n",
        "print(\"Array:\", a)\n"
      ],
      "metadata": {
        "colab": {
          "base_uri": "https://localhost:8080/"
        },
        "id": "U697PR9tyG0Y",
        "outputId": "30589218-265d-40d7-ba39-dab9dbaec4e0"
      },
      "execution_count": 6,
      "outputs": [
        {
          "output_type": "stream",
          "name": "stdout",
          "text": [
            "Array: [10 15 20 25 30 35 40 45 50]\n"
          ]
        }
      ]
    },
    {
      "cell_type": "markdown",
      "source": [
        "#4. Reshape the array into a 2x4 matrix."
      ],
      "metadata": {
        "id": "e3t1exfwznmp"
      }
    },
    {
      "cell_type": "code",
      "source": [
        "a =np.array([1, 2, 3, 4, 5, 6, 7, 8])\n",
        "reshaped_array = a.reshape(2, 4)\n",
        "print(\"Reshaped Array:\", reshaped_array)"
      ],
      "metadata": {
        "colab": {
          "base_uri": "https://localhost:8080/"
        },
        "id": "57ezOvvmz3Uj",
        "outputId": "5d98a48d-361c-4c37-98ce-abf9228617b4"
      },
      "execution_count": 12,
      "outputs": [
        {
          "output_type": "stream",
          "name": "stdout",
          "text": [
            "Reshaped Array: [[1 2 3 4]\n",
            " [5 6 7 8]]\n"
          ]
        }
      ]
    },
    {
      "cell_type": "markdown",
      "source": [
        "#5. Given the array arr = np.array([[1, 2, 3], [4, 5, 6], [7, 8, 9]]):\n",
        "###• Extract the sub-matrix containing the last two rows and first two columns.\n",
        "###• Replace all elements greater than 4 with 0."
      ],
      "metadata": {
        "id": "6S4jhGq42Rzq"
      }
    },
    {
      "cell_type": "code",
      "source": [
        "a = np.array([[1, 2, 3], [4, 5, 6], [7, 8, 9]])\n",
        "sub_matrix = a[1:3, 0:2]\n",
        "a[a > 4] = 0\n",
        "print(\"last two rows and first two columns:\")\n",
        "print(sub_matrix)\n",
        "print(\"replaced array:\")\n",
        "print(a)\n"
      ],
      "metadata": {
        "colab": {
          "base_uri": "https://localhost:8080/"
        },
        "id": "5XjGKh_c2Yhd",
        "outputId": "3d50096c-3670-4a37-f542-a720849cd3aa"
      },
      "execution_count": 18,
      "outputs": [
        {
          "output_type": "stream",
          "name": "stdout",
          "text": [
            "last two rows and first two columns:\n",
            "[[4 0]\n",
            " [0 0]]\n",
            "replaced array:\n",
            "[[1 2 3]\n",
            " [4 0 0]\n",
            " [0 0 0]]\n"
          ]
        }
      ]
    },
    {
      "cell_type": "markdown",
      "source": [
        "#6. Create two 1D arrays:\n",
        "###• a = np.array([1, 2, 3])\n",
        "###• b = np.array([4, 5, 6])\n",
        "###• Perform element-wise addition, multiplication, and division"
      ],
      "metadata": {
        "id": "Vj4AAs348IcS"
      }
    },
    {
      "cell_type": "code",
      "source": [
        "a = np.array([1, 2, 3])\n",
        "b = np.array([4, 5, 6])\n",
        "print(np.add(a, b))\n",
        "print(np.subtract(a, b))\n",
        "print(np.multiply(a, b))\n",
        "print(np.divide(a, b))"
      ],
      "metadata": {
        "colab": {
          "base_uri": "https://localhost:8080/"
        },
        "id": "qgyjJWTW8WSv",
        "outputId": "e6d325a9-1c43-4951-c2e8-62bbedd067dd"
      },
      "execution_count": 21,
      "outputs": [
        {
          "output_type": "stream",
          "name": "stdout",
          "text": [
            "[5 7 9]\n",
            "[-3 -3 -3]\n",
            "[ 4 10 18]\n",
            "[0.25 0.4  0.5 ]\n"
          ]
        }
      ]
    },
    {
      "cell_type": "markdown",
      "source": [
        "#7. Create a random NumPy array of size (4, 4). Compute:\n",
        "###• Mean of each column.\n",
        "###• Maximum value of the entire array.\n",
        "###• Sum of all elements."
      ],
      "metadata": {
        "id": "2zKN0gUE9lLd"
      }
    },
    {
      "cell_type": "code",
      "source": [
        "arr = np.array([\n",
        "    [1, 5, 15, 4],\n",
        "    [8, 3, 6, 9],\n",
        "    [7, 3, 9, 18],\n",
        "    [3, 5, 6, 9]\n",
        "])\n",
        "column_mean = np.mean(arr, axis=0)\n",
        "max_val= np.max(arr)\n",
        "sum = np.sum(arr)\n",
        "print(\"Array:\", arr)\n",
        "print(\"\\nMean of Each Column:\", column_mean)\n",
        "print(\"Max Value in Array:\", max_val)\n",
        "print(\"Sum of All Elements:\",sum)\n"
      ],
      "metadata": {
        "colab": {
          "base_uri": "https://localhost:8080/"
        },
        "id": "WLNq1rUz9vTX",
        "outputId": "6f5f4081-36ca-4fba-f28d-4dab0d376e94"
      },
      "execution_count": 22,
      "outputs": [
        {
          "output_type": "stream",
          "name": "stdout",
          "text": [
            "Array: [[ 1  5 15  4]\n",
            " [ 8  3  6  9]\n",
            " [ 7  3  9 18]\n",
            " [ 3  5  6  9]]\n",
            "\n",
            "Mean of Each Column: [ 4.75  4.    9.   10.  ]\n",
            "Max Value in Array: 18\n",
            "Sum of All Elements: 111\n"
          ]
        }
      ]
    },
    {
      "cell_type": "markdown",
      "source": [
        "#8.Given the array arr = np.array([1, 2, 3, 4]), add 10 to each element and multiply the result by 2."
      ],
      "metadata": {
        "id": "HxPKZQcC_Lt-"
      }
    },
    {
      "cell_type": "code",
      "source": [
        "\n",
        "arr = np.array([1, 2, 3, 4])\n",
        "modified_arr = (arr + 10) * 2\n",
        "\n",
        "print(\"Original Array:\", arr)\n",
        "print(\"Modified Array:\", modified_arr)\n"
      ],
      "metadata": {
        "colab": {
          "base_uri": "https://localhost:8080/"
        },
        "id": "2KwVZZ3F_h_g",
        "outputId": "062bc667-9144-4a58-9841-81d2ec4d62ba"
      },
      "execution_count": 23,
      "outputs": [
        {
          "output_type": "stream",
          "name": "stdout",
          "text": [
            "Original Array: [1 2 3 4]\n",
            "Modified Array: [22 24 26 28]\n"
          ]
        }
      ]
    },
    {
      "cell_type": "markdown",
      "source": [
        "#9. Perform advanced slicing and indexing on a 3D array.\n",
        "Create a 3D NumPy array arr of shape (3, 4, 5) with random integers ranging from\n",
        "1 to 100. Perform the following:\n",
        "• Extract the second \"layer\" (i.e., the second 2D array) in the first dimension.\n",
        "• Extract the first two rows and the last three columns from each \"layer.\"\n",
        "• Replace all elements divisible by 3 with -1."
      ],
      "metadata": {
        "id": "fc25h48SCLk6"
      }
    },
    {
      "cell_type": "code",
      "source": [
        "arr = np.random.randint(1, 101, (3, 4, 5))\n",
        "print(\"Original 3D Array:\\n\", arr)\n",
        "second_layer = arr[1]\n",
        "print(\"\\n2D Array from First Dimension\", second_layer)\n",
        "b= arr[:, :2, -3:]\n",
        "print(\"\\nFirst Two Rows and Last Three Columns from Each Layer:\\n\",b)\n",
        "arr[arr % 3 == 0] = -1\n",
        "print(\"\\nArray After Replacing :\\n\", arr)\n"
      ],
      "metadata": {
        "colab": {
          "base_uri": "https://localhost:8080/"
        },
        "id": "HGJCU2OQC0md",
        "outputId": "df44216c-bec5-4874-f435-deca9e5b7a89"
      },
      "execution_count": 24,
      "outputs": [
        {
          "output_type": "stream",
          "name": "stdout",
          "text": [
            "Original 3D Array:\n",
            " [[[ 57  36  79  45  88]\n",
            "  [ 57  94  73  12  28]\n",
            "  [  2  33   3  78  65]\n",
            "  [ 89   2  34  49  83]]\n",
            "\n",
            " [[ 29  67   9  89  49]\n",
            "  [ 82  66  87  64  87]\n",
            "  [ 79  40  81  16  83]\n",
            "  [ 74  30 100  63  70]]\n",
            "\n",
            " [[  9  46  95   3  51]\n",
            "  [ 58  97   7  35  69]\n",
            "  [ 14  53  78  42   5]\n",
            "  [ 44  33  82  27   5]]]\n",
            "\n",
            "2D Array from First Dimension [[ 29  67   9  89  49]\n",
            " [ 82  66  87  64  87]\n",
            " [ 79  40  81  16  83]\n",
            " [ 74  30 100  63  70]]\n",
            "\n",
            "First Two Rows and Last Three Columns from Each Layer:\n",
            " [[[79 45 88]\n",
            "  [73 12 28]]\n",
            "\n",
            " [[ 9 89 49]\n",
            "  [87 64 87]]\n",
            "\n",
            " [[95  3 51]\n",
            "  [ 7 35 69]]]\n",
            "\n",
            "Array After Replacing :\n",
            " [[[ -1  -1  79  -1  88]\n",
            "  [ -1  94  73  -1  28]\n",
            "  [  2  -1  -1  -1  65]\n",
            "  [ 89   2  34  49  83]]\n",
            "\n",
            " [[ 29  67  -1  89  49]\n",
            "  [ 82  -1  -1  64  -1]\n",
            "  [ 79  40  -1  16  83]\n",
            "  [ 74  -1 100  -1  70]]\n",
            "\n",
            " [[ -1  46  95  -1  -1]\n",
            "  [ 58  97   7  35  -1]\n",
            "  [ 14  53  -1  -1   5]\n",
            "  [ 44  -1  82  -1   5]]]\n"
          ]
        }
      ]
    },
    {
      "cell_type": "markdown",
      "source": [],
      "metadata": {
        "id": "_4qEWIqiCwEF"
      }
    }
  ]
}